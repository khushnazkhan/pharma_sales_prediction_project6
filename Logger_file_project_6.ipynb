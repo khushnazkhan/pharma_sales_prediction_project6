{
  "nbformat": 4,
  "nbformat_minor": 0,
  "metadata": {
    "colab": {
      "provenance": [],
      "gpuType": "T4"
    },
    "kernelspec": {
      "name": "python3",
      "display_name": "Python 3"
    },
    "language_info": {
      "name": "python"
    },
    "accelerator": "GPU"
  },
  "cells": [
    {
      "cell_type": "code",
      "execution_count": 1,
      "metadata": {
        "id": "ZKUuGBiyQf4m"
      },
      "outputs": [],
      "source": [
        "import logging"
      ]
    },
    {
      "cell_type": "code",
      "source": [
        "from google.colab import drive\n",
        "drive.mount('/content/drive')"
      ],
      "metadata": {
        "colab": {
          "base_uri": "https://localhost:8080/"
        },
        "id": "0y16G8BTRFXA",
        "outputId": "0ffd2fc4-f598-4a34-d036-cbe775f9f638"
      },
      "execution_count": 2,
      "outputs": [
        {
          "output_type": "stream",
          "name": "stdout",
          "text": [
            "Drive already mounted at /content/drive; to attempt to forcibly remount, call drive.mount(\"/content/drive\", force_remount=True).\n"
          ]
        }
      ]
    },
    {
      "cell_type": "code",
      "source": [
        "logger = logging.getLogger('my_logger')"
      ],
      "metadata": {
        "id": "yGjEjBUZRp_P"
      },
      "execution_count": 3,
      "outputs": []
    },
    {
      "cell_type": "code",
      "source": [
        "logger.setLevel(logging.INFO)"
      ],
      "metadata": {
        "id": "UwQnTPZoSLnf"
      },
      "execution_count": 4,
      "outputs": []
    },
    {
      "cell_type": "code",
      "source": [
        "##handler\n",
        "console_handler = logging.StreamHandler()"
      ],
      "metadata": {
        "id": "zU_sN_WaSsDS"
      },
      "execution_count": 5,
      "outputs": []
    },
    {
      "cell_type": "code",
      "source": [
        "file_handler = logging.FileHandler('app.log')"
      ],
      "metadata": {
        "id": "gvSB_fOcTWQR"
      },
      "execution_count": 6,
      "outputs": []
    },
    {
      "cell_type": "code",
      "source": [
        "logger.addHandler(console_handler)\n",
        "logger.addHandler(file_handler)"
      ],
      "metadata": {
        "id": "XqHeXcLkTpRv"
      },
      "execution_count": 7,
      "outputs": []
    },
    {
      "cell_type": "code",
      "source": [
        "from time import asctime\n",
        "##Formatter\n",
        "formatter = logging.Formatter('%(asctime)s - %(levelname)s - %(message)s')"
      ],
      "metadata": {
        "id": "OMUPYR6zT4kP"
      },
      "execution_count": 8,
      "outputs": []
    },
    {
      "cell_type": "code",
      "source": [
        "console_handler.setFormatter(formatter)\n",
        "file_handler.setFormatter(formatter)"
      ],
      "metadata": {
        "id": "VbTeGL4EUpvt"
      },
      "execution_count": 10,
      "outputs": []
    },
    {
      "cell_type": "code",
      "source": [
        "##Logging level\n",
        "logger.debug('This is a debug message')\n",
        "logger.info('This is a info message')\n",
        "logger.warning('This ia a warning message')\n",
        "logger.error('This is a error message')\n",
        "logger.critical('This is a critical message')\n",
        "logger.exception('This is a exception message')\n"
      ],
      "metadata": {
        "colab": {
          "base_uri": "https://localhost:8080/"
        },
        "id": "74J0glvxVX4s",
        "outputId": "d0f19580-dfe2-4c27-d66a-25ac50115b3e"
      },
      "execution_count": 11,
      "outputs": [
        {
          "output_type": "stream",
          "name": "stderr",
          "text": [
            "2025-06-14 03:01:27,718 - INFO - This is a info message\n",
            "INFO:my_logger:This is a info message\n",
            "2025-06-14 03:01:27,721 - WARNING - This ia a warning message\n",
            "WARNING:my_logger:This ia a warning message\n",
            "2025-06-14 03:01:27,723 - ERROR - This is a error message\n",
            "ERROR:my_logger:This is a error message\n",
            "2025-06-14 03:01:27,724 - CRITICAL - This is a critical message\n",
            "CRITICAL:my_logger:This is a critical message\n",
            "2025-06-14 03:01:27,726 - ERROR - This is a exception message\n",
            "NoneType: None\n",
            "ERROR:my_logger:This is a exception message\n",
            "NoneType: None\n"
          ]
        }
      ]
    },
    {
      "cell_type": "code",
      "source": [
        "import os\n",
        "import logging"
      ],
      "metadata": {
        "id": "qQGkfmMbWFN6"
      },
      "execution_count": 13,
      "outputs": []
    },
    {
      "cell_type": "code",
      "source": [
        "# step 1  configure logging\n",
        "logging.basicConfig(filename='app.log', # you can specify a log file\n",
        "                    filemode='w',\n",
        "                    level=logging.DEBUG, # Set the log level (DEBUG, INFO, WARNING, ERROR, CRITICAL)\n",
        "                    format='%(asctime)s - %(levelname)s - %(message)s') # format of the log message"
      ],
      "metadata": {
        "id": "LfZqMw_jY2g8"
      },
      "execution_count": 14,
      "outputs": []
    },
    {
      "cell_type": "code",
      "source": [
        "logger = logging.getLogger('My_logger')"
      ],
      "metadata": {
        "id": "B6A4HPF0ZwqI"
      },
      "execution_count": 15,
      "outputs": []
    },
    {
      "cell_type": "markdown",
      "source": [
        "# **Step 2**"
      ],
      "metadata": {
        "id": "NBXi-eKSaQR2"
      }
    },
    {
      "cell_type": "code",
      "source": [
        "import pandas as pd"
      ],
      "metadata": {
        "id": "r2_WA573Z_64"
      },
      "execution_count": 16,
      "outputs": []
    },
    {
      "cell_type": "code",
      "source": [
        "# Step 2: Start logging in your project\n",
        "import logging\n",
        "import pandas as pd\n",
        "\n",
        "def load_data(file_path='/content/train.csv'):\n",
        "    logging.info(\"Loading data from file: %s\", file_path)\n",
        "    try:\n",
        "        data = pd.read_csv('/content/train.csv') # Assuming the file is an excel file\n",
        "        logging.info(\"Data loaded successfully from %s\", file_path)\n",
        "        return data\n",
        "    except Exception as e:\n",
        "        logging.error(\"Error loading data from file: %s\", file_path)\n",
        "        logging.exception(\"Exception occurred\", exc_info=True)\n",
        "        return None\n",
        "        data = pd.read_csv('/content/train.csv')\n",
        "        logging.info(\"Data loaded successfully from %s\", file_path)\n",
        "        return data\n",
        "    except Exception as e:\n",
        "        logging.error(\"Error loading data from file: %s\", file_path)\n",
        "        logging.exception(\"Exception occurred\", exc_info=True)\n",
        "        return None\n",
        ""
      ],
      "metadata": {
        "id": "0l2YpocMaTcv"
      },
      "execution_count": 17,
      "outputs": []
    },
    {
      "cell_type": "code",
      "source": [
        "def load_data(file_path='/content/store.csv'):\n",
        "    logging.info(\"Loading data from file: %s\", file_path)\n",
        "    try:\n",
        "        data = pd.read_csv('/content/store.csv')\n",
        "        logging.info(\"Data loaded successfully from %s\", file_path)\n",
        "        return data\n",
        "    except Exception as e:\n",
        "        logging.error(\"Error loading data from file: %s\", file_path)\n",
        "        logging.exception(\"Exception occurred\", exc_info=True)\n",
        "        return None\n",
        "        data = pd.read_csv('/content/store.csv')\n",
        "        logging.info(\"Data loaded successfully from %s\", file_path)\n",
        "        return data\n",
        "    except Exception as e:\n",
        "        logging.error(\"Error loading data from file: %s\", file_path)\n",
        "        logging.exception(\"Exception occurred\", exc_info=True)\n",
        "        return None"
      ],
      "metadata": {
        "id": "7esRWKHNaU-H"
      },
      "execution_count": 18,
      "outputs": []
    },
    {
      "cell_type": "code",
      "source": [
        "def load_data(file_path='/content/test.csv'):\n",
        "  logging.info(\"Loading data from file: %s\", file_path)\n",
        "  try:\n",
        "    data = pd.read_csv('/content/test.csv')\n",
        "    logging.info(\"Data loaded successfully from %s\", file_path)\n",
        "    return data\n",
        "  except Exception as e:\n",
        "    logging.error(\"Error loading data from file: %s\", file_path)\n",
        "    logging.exception(\"Exception occurred\", exc_info=True)\n",
        "    return None\n",
        "    data = pd.read_csv('/content/test.csv')\n",
        "    logging.info(\"Data loaded successfully from %s\", file_path)\n",
        "    return data\n",
        "  except Exception as e:\n",
        "        logging.error(\"Error loading data from file: %s\", file_path)\n",
        "        logging.exception(\"Exception occurred\", exc_info=True)\n",
        "        return None\n"
      ],
      "metadata": {
        "id": "HfwLKwZdbJhG"
      },
      "execution_count": 19,
      "outputs": []
    },
    {
      "cell_type": "code",
      "source": [],
      "metadata": {
        "id": "HZuFWps_boql"
      },
      "execution_count": null,
      "outputs": []
    }
  ]
}